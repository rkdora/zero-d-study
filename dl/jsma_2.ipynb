{
 "cells": [
  {
   "cell_type": "code",
   "execution_count": 10,
   "metadata": {},
   "outputs": [],
   "source": [
    "import numpy as np\n",
    "import matplotlib.pyplot as plt\n",
    "from keras.datasets import mnist\n",
    "from deep_convnet import DeepConvNet\n",
    "%matplotlib inline\n",
    "\n",
    "from common.functions import softmax"
   ]
  },
  {
   "cell_type": "code",
   "execution_count": 11,
   "metadata": {},
   "outputs": [],
   "source": [
    "# データの読み込み\n",
    "(x_train, t_train), (x_test, t_test) = mnist.load_data()\n",
    "\n",
    "# # 1次元へ整形\n",
    "# x_train, x_test = x_train.reshape(-1, 784), x_test.reshape(-1, 784)\n",
    "\n",
    "# 正規化\n",
    "x_train, x_test = x_train.astype(np.float32) / 255.0, x_test.astype(np.float32) / 255.0"
   ]
  },
  {
   "cell_type": "code",
   "execution_count": 12,
   "metadata": {},
   "outputs": [
    {
     "name": "stdout",
     "output_type": "stream",
     "text": [
      "loaded Network Parameters!\n"
     ]
    }
   ],
   "source": [
    "network = DeepConvNet()\n",
    "\n",
    "# パラメータの保存\n",
    "network.load_params(\"deep_convnet_params.pkl\")\n",
    "print(\"loaded Network Parameters!\")"
   ]
  },
  {
   "cell_type": "code",
   "execution_count": 13,
   "metadata": {},
   "outputs": [
    {
     "data": {
      "image/png": "[encoded data removed]",
      "text/plain": [
       "<Figure size 432x288 with 1 Axes>"
      ]
     },
     "metadata": {
      "needs_background": "light"
     },
     "output_type": "display_data"
    },
    {
     "name": "stdout",
     "output_type": "stream",
     "text": [
      "(28, 28)\n"
     ]
    }
   ],
   "source": [
    "x = x_test[0].copy()\n",
    "plt.imshow(x, 'gray')\n",
    "plt.show()\n",
    "print(x.shape)"
   ]
  },
  {
   "cell_type": "code",
   "execution_count": 14,
   "metadata": {},
   "outputs": [
    {
     "data": {
      "text/plain": [
       "array([[4.09270345e-11, 4.14774472e-09, 6.66339952e-10, 2.53388230e-09,\n",
       "        1.00733911e-09, 7.27067004e-11, 3.13935327e-12, 9.99999990e-01,\n",
       "        2.84502728e-10, 1.17001944e-09]])"
      ]
     },
     "execution_count": 14,
     "metadata": {},
     "output_type": "execute_result"
    }
   ],
   "source": [
    "x = x.reshape(-1, 1, 28, 28)\n",
    "pred = network.predict(x)\n",
    "pred_probability = softmax(pred)\n",
    "pred_probability"
   ]
  },
  {
   "cell_type": "code",
   "execution_count": 15,
   "metadata": {},
   "outputs": [
    {
     "data": {
      "text/plain": [
       "array([7])"
      ]
     },
     "execution_count": 15,
     "metadata": {},
     "output_type": "execute_result"
    }
   ],
   "source": [
    "pred_label = np.argmax(pred, axis=1)\n",
    "pred_label"
   ]
  },
  {
   "cell_type": "code",
   "execution_count": 40,
   "metadata": {},
   "outputs": [],
   "source": [
    "def generate_adv_jsma_2(x, target, network):\n",
    "    adv = x.copy().reshape(1, 1, 28, 28)\n",
    "\n",
    "    for _ in range(100):\n",
    "        dj_list = []\n",
    "        adv_c = adv.copy()\n",
    "        for i in range(10):\n",
    "            dj, gj = network.gradient_for_fgsm(adv, np.array([i]))\n",
    "            dj = dj.reshape(-1)\n",
    "            if i == target:\n",
    "                dt = dj\n",
    "                dj = np.zeros_like(dj)\n",
    "\n",
    "            dj_list.append(dj)\n",
    "\n",
    "        dj_list = np.array(dj_list)\n",
    "\n",
    "        adv = adv.reshape(-1)\n",
    "\n",
    "        for i, t in enumerate(dt):\n",
    "            if t < 0:\n",
    "                adv[i] = 0\n",
    "            else:\n",
    "                sum_dx = np.sum(dj_list, axis=0)\n",
    "                if sum_dx[i] > 0:\n",
    "                    adv[i] = 0\n",
    "                else:\n",
    "                    adv[i] = t * abs(sum_dx[i])\n",
    "                    \n",
    "        max_i = np.argmax(adv)\n",
    "        \n",
    "        adv2 = np.zeros_like(adv)\n",
    "        \n",
    "        adv2[max_i] = adv[max_i]\n",
    "\n",
    "        adv = (adv_c + adv2.reshape(1, 1, 28, 28)).clip(min=0, max=1)\n",
    "    \n",
    "        \n",
    "    plt.imshow(adv.reshape(28, 28))\n",
    "    plt.show()\n",
    "            \n",
    "    return adv"
   ]
  },
  {
   "cell_type": "code",
   "execution_count": 42,
   "metadata": {
    "scrolled": false
   },
   "outputs": [
    {
     "data": {
      "image/png": "[encoded data removed]",
      "text/plain": [
       "<Figure size 432x288 with 1 Axes>"
      ]
     },
     "metadata": {
      "needs_background": "light"
     },
     "output_type": "display_data"
    },
    {
     "data": {
      "image/png": "[encoded data removed]",
      "text/plain": [
       "<Figure size 432x288 with 1 Axes>"
      ]
     },
     "metadata": {
      "needs_background": "light"
     },
     "output_type": "display_data"
    },
    {
     "name": "stdout",
     "output_type": "stream",
     "text": [
      "0.9573896277669909\n",
      "[7]\n"
     ]
    }
   ],
   "source": [
    "adv_x = generate_adv_jsma_2(x, 1, network)\n",
    "plt.imshow(adv_x.reshape(28, 28), 'gray')\n",
    "plt.show()\n",
    "pred = network.predict(adv_x)\n",
    "pred_probability = softmax(pred)[0]\n",
    "print(max(pred_probability))\n",
    "pred_label = np.argmax(pred, axis=1)\n",
    "print(pred_label)"
   ]
  },
  {
   "cell_type": "code",
   "execution_count": null,
   "metadata": {},
   "outputs": [],
   "source": [
    "true_idxs = [[], [], [], [], [], [], [], [], [], []]\n",
    "for i, t in enumerate(x_test):\n",
    "    pre_l = np.argmax(network.predict(t.reshape(1, 1, 28, 28)))\n",
    "    true_l = t_test[i]\n",
    "    if pre_l == true_l:\n",
    "        true_idxs[true_l].append(i)"
   ]
  },
  {
   "cell_type": "code",
   "execution_count": null,
   "metadata": {},
   "outputs": [],
   "source": [
    "def compare_eps(x, target, network, loop, eps_list):\n",
    "    fig = plt.figure(figsize=(15, 15))\n",
    "    fig.subplots_adjust(wspace=0.4, hspace=0.4)\n",
    "    ax = fig.add_subplot(5, 5, 1)\n",
    "    ax.imshow(x, 'gray')\n",
    "    pre = network.predict(x.reshape(1, 1, 28, 28))\n",
    "    pre_label = np.argmax(pre)\n",
    "    pre_score = round(max(softmax(pre[0])), 4)\n",
    "    ax.set_title(f\"base, {pre_label} : {pre_score}\")\n",
    "\n",
    "    for i, eps in enumerate(eps_list):\n",
    "        adv = generate_adv_jsma(x.reshape(1, 1, 28, 28), target, network, eps, loop)\n",
    "        ax = fig.add_subplot(5, 5, i+2)\n",
    "        ax.imshow(adv.reshape(28,28), 'gray')\n",
    "        adv_pre = network.predict(adv)\n",
    "        adv_label = np.argmax(adv_pre)\n",
    "        adv_score = round(max(softmax(adv_pre[0])), 4)\n",
    "        ax.set_title(f\"eps[{eps}], {adv_label} : {adv_score}\")\n",
    "\n",
    "    plt.show()"
   ]
  },
  {
   "cell_type": "code",
   "execution_count": null,
   "metadata": {},
   "outputs": [],
   "source": [
    "eps_list = [0, 0.4, 0.3, 0.2, 0.1, 0.07, 0.05, 0.01, 0.009, 0.008, 0.007, 0.005, 0.003, 0.001]\n",
    "compare_eps(x.reshape(28, 28), 1, network, 100, eps_list)"
   ]
  },
  {
   "cell_type": "code",
   "execution_count": null,
   "metadata": {},
   "outputs": [],
   "source": [
    "true_x_list_1 = []\n",
    "for i in range(10):\n",
    "    true_idx = true_idxs[i][0]\n",
    "    true_x_list_1.append(x_test[true_idx])\n",
    "    \n",
    "true_x_list_1 = np.array(true_x_list_1)\n",
    "true_x_list_1.shape"
   ]
  },
  {
   "cell_type": "code",
   "execution_count": null,
   "metadata": {},
   "outputs": [],
   "source": [
    "for i, x in enumerate(true_x_list_1):\n",
    "    x = x.reshape(1, 1, 28, 28)\n",
    "    print(i)\n",
    "    fig = plt.figure(figsize=(20, 20))\n",
    "    fig.subplots_adjust(wspace=0.4, hspace=0.1)\n",
    "    ax = fig.add_subplot(1, 11, 1)\n",
    "    ax.imshow(x.reshape(28,28), 'gray')\n",
    "    pre = network.predict(x)\n",
    "    pre_label = np.argmax(pre)\n",
    "    pre_score = round(max(softmax(pre[0])), 3)\n",
    "    ax.set_title(f\"base, {pre_label} : {pre_score}\")\n",
    "    \n",
    "    for j in range(10):\n",
    "        adv = generate_adv_jsma(x, j, network, 0.01, 100)\n",
    "        ax = fig.add_subplot(1, 11, j+2)\n",
    "        ax.imshow(adv.reshape(28,28), 'gray')\n",
    "        pre = network.predict(adv)\n",
    "        pre_label = np.argmax(pre)\n",
    "        pre_score = round(max(softmax(pre[0])), 3)\n",
    "        ax.set_title(f\"{pre_label} : {pre_score}\")\n",
    "\n",
    "    plt.show()"
   ]
  },
  {
   "cell_type": "code",
   "execution_count": null,
   "metadata": {},
   "outputs": [],
   "source": []
  },
  {
   "cell_type": "code",
   "execution_count": null,
   "metadata": {},
   "outputs": [],
   "source": []
  },
  {
   "cell_type": "code",
   "execution_count": null,
   "metadata": {},
   "outputs": [],
   "source": []
  },
  {
   "cell_type": "code",
   "execution_count": null,
   "metadata": {},
   "outputs": [],
   "source": []
  },
  {
   "cell_type": "code",
   "execution_count": null,
   "metadata": {},
   "outputs": [],
   "source": []
  }
 ],
 "metadata": {
  "kernelspec": {
   "display_name": "Python 3",
   "language": "python",
   "name": "python3"
  },
  "language_info": {
   "codemirror_mode": {
    "name": "ipython",
    "version": 3
   },
   "file_extension": ".py",
   "mimetype": "text/x-python",
   "name": "python",
   "nbconvert_exporter": "python",
   "pygments_lexer": "ipython3",
   "version": "3.7.3"
  }
 },
 "nbformat": 4,
 "nbformat_minor": 2
}
