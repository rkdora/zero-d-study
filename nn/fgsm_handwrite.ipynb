{
 "cells": [
  {
   "cell_type": "code",
   "execution_count": 1,
   "metadata": {},
   "outputs": [
    {
     "name": "stderr",
     "output_type": "stream",
     "text": [
      "Using TensorFlow backend.\n"
     ]
    }
   ],
   "source": [
    "import os\n",
    "import numpy as np\n",
    "from PIL import Image\n",
    "import matplotlib.pyplot as plt\n",
    "from two_layer_net import TwoLayerNet\n",
    "from keras.datasets import mnist\n",
    "from common.functions import softmax\n",
    "\n",
    "%matplotlib inline"
   ]
  },
  {
   "cell_type": "code",
   "execution_count": 2,
   "metadata": {},
   "outputs": [],
   "source": [
    "# データの読み込み\n",
    "(x_train, t_train), (x_test, t_test) = mnist.load_data()\n",
    "\n",
    "# 1次元へ整形\n",
    "x_train, x_test = x_train.reshape(-1, 784), x_test.reshape(-1, 784)\n",
    "\n",
    "# 正規化\n",
    "x_train, x_test = x_train.astype(np.float32) / 255.0, x_test.astype(np.float32) / 255.0"
   ]
  },
  {
   "cell_type": "code",
   "execution_count": 3,
   "metadata": {},
   "outputs": [
    {
     "name": "stdout",
     "output_type": "stream",
     "text": [
      "loaded Network Parameters!\n"
     ]
    }
   ],
   "source": [
    "network = TwoLayerNet(input_size=784, hidden_size=50, output_size=10)\n",
    "\n",
    "# パラメータのロード\n",
    "network.load_params(\"params_nn.pkl\")\n",
    "print(\"loaded Network Parameters!\")"
   ]
  },
  {
   "cell_type": "code",
   "execution_count": 4,
   "metadata": {},
   "outputs": [],
   "source": [
    "def generate_adv2(x, label, network, eps=0.01):\n",
    "    d, g = network.gradient_for_fgsm(x, np.array([label]))\n",
    "#     plt.imshow(d.reshape(28, 28), 'gray')\n",
    "#     plt.show()\n",
    "    p = eps * np.sign(d)\n",
    "    adv = (x - p).clip(min=0, max=1)\n",
    "#     plt.imshow(adv.reshape(28, 28), 'gray')\n",
    "#     plt.show()\n",
    "    return adv"
   ]
  },
  {
   "cell_type": "code",
   "execution_count": 5,
   "metadata": {},
   "outputs": [],
   "source": [
    "def compare_eps(x, label, network, eps_list):\n",
    "    fig = plt.figure(figsize=(15, 15))\n",
    "    fig.subplots_adjust(wspace=0.4, hspace=0.4)\n",
    "    ax = fig.add_subplot(5, 5, 1)\n",
    "    ax.imshow(x.reshape(28,28), 'gray')\n",
    "    pre = network.predict(x)\n",
    "    pre_label = np.argmax(pre)\n",
    "    pre_score = round(max(softmax(pre[0])), 4)\n",
    "    ax.set_title(f\"base, {pre_label} : {pre_score}\")\n",
    "\n",
    "    for i, eps in enumerate(eps_list):\n",
    "        adv = generate_adv2(x, label, network, eps)\n",
    "        ax = fig.add_subplot(5, 5, i+2)\n",
    "        ax.imshow(adv.reshape(28,28), 'gray')\n",
    "        pre = network.predict(adv)\n",
    "        pre_label = np.argmax(pre)\n",
    "        pre_score = round(max(softmax(pre[0])), 4)\n",
    "        ax.set_title(f\"eps[{eps}], {pre_label} : {pre_score}\")\n",
    "\n",
    "    plt.show()"
   ]
  },
  {
   "cell_type": "code",
   "execution_count": 36,
   "metadata": {},
   "outputs": [
    {
     "data": {
      "text/html": [
       "\n",
       "    使い方：<BR>\n",
       "    ①黄色の範囲内にマウスでに数字を書きます<BR>\n",
       "    <canvas id=\"numArea\" height=\"28px\" width=\"28px\" \n",
       "    style=\"border: 3px double #999999; background-color:yellow;\"></canvas>\n",
       "    <BR>\n",
       "\n",
       "    <button id=\"save\">②このボタンを押すと数値（配列）に変換されます</button>\n",
       "    <BR>\n",
       "    （書き直す場合はセルを再実行して下さい）\n",
       "    <script>\n",
       "        var kernel = IPython.notebook.kernel;\n",
       "\n",
       "        var currentX ;\n",
       "        var currentY ;\n",
       "        var isMoving = 0;\n",
       "\n",
       "        var imgDecoded \n",
       "            = 'imgArray = np.asarray(Image.open(BytesIO(base64.b64decode(imgDataSp))))[:,:,3]'\n",
       "        var save = document.getElementById(\"save\");\n",
       "        var numArea = document.getElementById(\"numArea\");\n",
       "        var context;\n",
       "        if (numArea.getContext(\"2d\")){\n",
       "            context = numArea.getContext(\"2d\");\n",
       "        }\n",
       "\n",
       "        save.addEventListener(\"click\", function(){\n",
       "            kernel.execute(\"imgData = '\" + numArea.toDataURL() + \"'\");\n",
       "            kernel.execute('imgDataSp = imgData.split(\",\")[-1]');\n",
       "            kernel.execute('imgArray = '+imgDecoded);\n",
       "        });\n",
       "\n",
       "        numArea.addEventListener(\"mouseup\", end, false);\n",
       "        numArea.addEventListener(\"mousemove\", move, false);\n",
       "        numArea.addEventListener(\"mousedown\", start, false);\n",
       "\n",
       "        function end(evt){\n",
       "            if(isMoving === 0){\n",
       "               context.lineTo(currentX-1, currentY-1);\n",
       "               context.lineWidth = 2;\n",
       "               context.stroke();\n",
       "\n",
       "            }\n",
       "            isMoving = 0;\n",
       "        }\n",
       "\n",
       "        function move(evt){\n",
       "          if(evt.buttons === 1 || evt.witch === 1 ){\n",
       "            currentX = evt.layerX;\n",
       "            currentY = evt.layerY;\n",
       "            isMoving = 1;\n",
       "\n",
       "            context.lineTo(currentX, currentY);\n",
       "            context.lineWidth = 2;\n",
       "            context.stroke();\n",
       "          }\n",
       "        }\n",
       "\n",
       "        function start(evt){\n",
       "          evt.preventDefault();\n",
       "          context.beginPath();\n",
       "\n",
       "          currentX = evt.layerX;\n",
       "          currentY = evt.layerY;\n",
       "\n",
       "          context.moveTo(currentX, currentY);\n",
       "        }\n",
       "\n",
       "    </script>\n"
      ],
      "text/plain": [
       "<IPython.core.display.HTML object>"
      ]
     },
     "execution_count": 36,
     "metadata": {},
     "output_type": "execute_result"
    }
   ],
   "source": [
    "from IPython.core.display import HTML\n",
    "import base64\n",
    "import numpy as np\n",
    "from io import BytesIO\n",
    "from PIL import Image\n",
    "\n",
    "numcanvas = '''\n",
    "    使い方：<BR>\n",
    "    ①黄色の範囲内にマウスでに数字を書きます<BR>\n",
    "    <canvas id=\"numArea\" height=\"28px\" width=\"28px\" \n",
    "    style=\"border: 3px double #999999; background-color:yellow;\"></canvas>\n",
    "    <BR>\n",
    "\n",
    "    <button id=\"save\">②このボタンを押すと数値（配列）に変換されます</button>\n",
    "    <BR>\n",
    "    （書き直す場合はセルを再実行して下さい）\n",
    "    <script>\n",
    "        var kernel = IPython.notebook.kernel;\n",
    "\n",
    "        var currentX ;\n",
    "        var currentY ;\n",
    "        var isMoving = 0;\n",
    "\n",
    "        var imgDecoded \n",
    "            = 'imgArray = np.asarray(Image.open(BytesIO(base64.b64decode(imgDataSp))))[:,:,3]'\n",
    "        var save = document.getElementById(\"save\");\n",
    "        var numArea = document.getElementById(\"numArea\");\n",
    "        var context;\n",
    "        if (numArea.getContext(\"2d\")){\n",
    "            context = numArea.getContext(\"2d\");\n",
    "        }\n",
    "\n",
    "        save.addEventListener(\"click\", function(){\n",
    "            kernel.execute(\"imgData = '\" + numArea.toDataURL() + \"'\");\n",
    "            kernel.execute('imgDataSp = imgData.split(\",\")[-1]');\n",
    "            kernel.execute('imgArray = '+imgDecoded);\n",
    "        });\n",
    "\n",
    "        numArea.addEventListener(\"mouseup\", end, false);\n",
    "        numArea.addEventListener(\"mousemove\", move, false);\n",
    "        numArea.addEventListener(\"mousedown\", start, false);\n",
    "\n",
    "        function end(evt){\n",
    "            if(isMoving === 0){\n",
    "               context.lineTo(currentX-1, currentY-1);\n",
    "               context.lineWidth = 2;\n",
    "               context.stroke();\n",
    "\n",
    "            }\n",
    "            isMoving = 0;\n",
    "        }\n",
    "\n",
    "        function move(evt){\n",
    "          if(evt.buttons === 1 || evt.witch === 1 ){\n",
    "            currentX = evt.layerX;\n",
    "            currentY = evt.layerY;\n",
    "            isMoving = 1;\n",
    "\n",
    "            context.lineTo(currentX, currentY);\n",
    "            context.lineWidth = 2;\n",
    "            context.stroke();\n",
    "          }\n",
    "        }\n",
    "\n",
    "        function start(evt){\n",
    "          evt.preventDefault();\n",
    "          context.beginPath();\n",
    "\n",
    "          currentX = evt.layerX;\n",
    "          currentY = evt.layerY;\n",
    "\n",
    "          context.moveTo(currentX, currentY);\n",
    "        }\n",
    "\n",
    "    </script>\n",
    "'''\n",
    "\n",
    "HTML(numcanvas)"
   ]
  },
  {
   "cell_type": "code",
   "execution_count": 37,
   "metadata": {},
   "outputs": [
    {
     "name": "stdout",
     "output_type": "stream",
     "text": [
      "取り込んだ文字（拡大）\n"
     ]
    },
    {
     "data": {
      "image/png": "[encoded data removed]",
      "text/plain": [
       "<Figure size 432x288 with 1 Axes>"
      ]
     },
     "metadata": {
      "needs_background": "light"
     },
     "output_type": "display_data"
    },
    {
     "name": "stdout",
     "output_type": "stream",
     "text": [
      "文字を①次元の配列に変換した数値を参照すると、0から255の値であることがわかります\n",
      "[[  0   0   0   0   0   0   0   0   0   0   0   0   0   0   0   0   0   0\n",
      "    0   0   0   0   0   0   0   0   0   0   0   0   0   0   0   0   0   0\n",
      "    0   0   0   0   0   0   0   0   0   0   0   0   0   0   0   0   0   0\n",
      "    0   0   0   0   0   0   0   0   0   0   0   0   0   0   0 255 255 255\n",
      "  255 255 255 255 253   0   0   0   0   0   0   0   0   0   0   0   0   0\n",
      "    0   0   0   0   0 255 255 255 255 255 255 255 255 255 255   0   0   0\n",
      "    0   0   0   0   0   0   0   0   0   0   0   0   0 255 255 255 255 255\n",
      "  255  43  41  39 253 255 255   0   0   0   0   0   0   0   0   0   0   0\n",
      "    0   0   0 253 255 255 255 255 255  49  48   0   0   0   0 255 255   0\n",
      "    0   0   0   0   0   0   0   0   0   0   0   0 255 255 255 255 255  53\n",
      "   52   0   0   0   0   0   0 255 255   0   0   0   0   0   0   0   0   0\n",
      "    0   0   0   0 255 255 255 253  56   0   0   0   0   0   0   0   0 255\n",
      "  255   0   0   0   0   0   0   0   0   0   0   0   0   0  61  61  58   0\n",
      "    0   0   0   0   0   0   0   0   0 255 255   0   0   0   0   0   0   0\n",
      "    0   0   0   0   0   0   0   0   0   0   0   0   0   0   0   0   0   0\n",
      "    0 255 255   0   0   0   0   0   0   0   0   0   0   0   0   0   0   0\n",
      "    0   0   0   0   0   0   0   0   0   0 255 255 255   0   0   0   0   0\n",
      "    0   0   0   0   0   0   0   0   0   0   0   0   0   0   0   0   0   0\n",
      "  255 255 255 255 255   0   0   0   0   0   0   0   0   0   0   0   0   0\n",
      "    0   0   0   0   0   0 255 255 255 255 255 255 255 255 255 255 255 255\n",
      "  242   0   0   0   0   0   0   0   0   0   0   0   0   0   0   0 255 255\n",
      "  255 255 255 255 255 255 255 255 255 255 255   0   0   0   0   0   0   0\n",
      "    0   0   0   0   0   0   0   0   0   0   2   5   7   7   0   0   0   0\n",
      "  242 255 255   0   0   0   0   0   0   0   0   0   0   0   0   0   0   0\n",
      "    0   0   0   0   0   0   0   0   0   0   0 255 255   0   0   0   0   0\n",
      "    0   0   0   0   0   0   0   0   0   0   0   0   0   0   0   0   0   0\n",
      "    0   0   0 255 255   0   0   0   0   0   0   0   0   0   0   0   0   0\n",
      "    0   0   0   0   0   0   0   0   0   0   0   0   0 255 255   0   0   0\n",
      "    0   0   0   0   0   0   0   0   0   0   0   0   0   0   0   0   0   0\n",
      "    0   0   0   0   0 255 255   0   0   0   0   0   0   0   0   0   0   0\n",
      "    0   0   0   0   0   0   0   0   0   0   0   0   0   0   0 255 255   0\n",
      "    0   0   0   0   0   0   0   0   0   0   0   0   0   0   0   0   0   0\n",
      "    0   0   0   0   0   0 255 255 255   0   0   0   0   0   0   0   0   0\n",
      "    0   0   0   0   0   0   0   0 255 255 255   0   0   0   0 255 255 255\n",
      "  255   0   0   0   0   0   0   0   0   0   0   0   0   0   0   0   0   0\n",
      "  255 255 255   0   0   0 255 255 255 255   0   0   0   0   0   0   0   0\n",
      "    0   0   0   0   0   0   0   0   0   0   0 255 255 255 255 255 255 255\n",
      "  255   0   0   0   0   0   0   0   0   0   0   0   0   0   0   0   0   0\n",
      "    0   0   0 255 255 255 255 255 255 255   0   0   0   0   0   0   0   0\n",
      "    0   0   0   0   0   0   0   0   0   0   0   0   0   0   0   0   0   0\n",
      "    0   0   0   0   0   0   0   0   0   0   0   0   0   0   0   0   0   0\n",
      "    0   0   0   0   0   0   0   0   0   0   0   0   0   0   0   0   0   0\n",
      "    0   0   0   0   0   0   0   0   0   0   0   0   0   0   0   0   0   0\n",
      "    0   0   0   0   0   0   0   0   0   0]]\n"
     ]
    }
   ],
   "source": [
    "print(\"取り込んだ文字（拡大）\")\n",
    "plt.imshow(imgArray, cmap=\"Greys\")\n",
    "plt.show()\n",
    "\n",
    "print(\"文字を①次元の配列に変換した数値を参照すると、0から255の値であることがわかります\")\n",
    "imgArray_flatten = imgArray.reshape(1, 784)#1次元のベクトルに変換\n",
    "print(imgArray_flatten)"
   ]
  },
  {
   "cell_type": "code",
   "execution_count": 38,
   "metadata": {},
   "outputs": [],
   "source": [
    "def compare_base_adv(x, network, eps):\n",
    "    fig = plt.figure(figsize=(20, 20))\n",
    "    fig.subplots_adjust(wspace=0.4, hspace=0.1)\n",
    "    ax = fig.add_subplot(1, 2, 1)\n",
    "    ax.imshow(x.reshape(28,28), 'gray')\n",
    "    pre = network.predict(x)\n",
    "    pre_label = np.argmax(pre)\n",
    "    pre_score = round(max(softmax(pre[0])), 3)\n",
    "    ax.set_title(f\"base, {pre_label} : {pre_score}\")\n",
    "\n",
    "    adv = generate_adv2(x, pre_label, network, eps)\n",
    "    ax = fig.add_subplot(1, 2, 2)\n",
    "    ax.imshow(adv.reshape(28,28), 'gray')\n",
    "    pre = network.predict(adv)\n",
    "    pre_label = np.argmax(pre)\n",
    "    pre_score = round(max(softmax(pre[0])), 3)\n",
    "    ax.set_title(f\"{pre_label} : {pre_score}\")\n",
    "\n",
    "    plt.show()"
   ]
  },
  {
   "cell_type": "code",
   "execution_count": 39,
   "metadata": {},
   "outputs": [
    {
     "data": {
      "image/png": "[encoded data removed]",
      "text/plain": [
       "<Figure size 1440x1440 with 2 Axes>"
      ]
     },
     "metadata": {
      "needs_background": "light"
     },
     "output_type": "display_data"
    }
   ],
   "source": [
    "compare_base_adv(imgArray_flatten, network, 0.2)"
   ]
  },
  {
   "cell_type": "code",
   "execution_count": null,
   "metadata": {},
   "outputs": [],
   "source": []
  },
  {
   "cell_type": "code",
   "execution_count": null,
   "metadata": {},
   "outputs": [],
   "source": []
  }
 ],
 "metadata": {
  "kernelspec": {
   "display_name": "Python 3",
   "language": "python",
   "name": "python3"
  },
  "language_info": {
   "codemirror_mode": {
    "name": "ipython",
    "version": 3
   },
   "file_extension": ".py",
   "mimetype": "text/x-python",
   "name": "python",
   "nbconvert_exporter": "python",
   "pygments_lexer": "ipython3",
   "version": "3.7.3"
  }
 },
 "nbformat": 4,
 "nbformat_minor": 2
}
