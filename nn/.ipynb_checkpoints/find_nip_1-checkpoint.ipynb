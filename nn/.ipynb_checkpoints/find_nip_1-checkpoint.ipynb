{
 "cells": [
  {
   "cell_type": "code",
   "execution_count": null,
   "metadata": {},
   "outputs": [],
   "source": [
    "import os\n",
    "import numpy as np\n",
    "from PIL import Image\n",
    "import matplotlib.pyplot as plt\n",
    "from two_layer_net import TwoLayerNet\n",
    "from keras.datasets import mnist\n",
    "from common.functions import softmax"
   ]
  },
  {
   "cell_type": "code",
   "execution_count": null,
   "metadata": {},
   "outputs": [],
   "source": [
    "# データの読み込み\n",
    "(x_train, t_train), (x_test, t_test) = mnist.load_data()\n",
    "\n",
    "# 1次元へ整形\n",
    "x_train, x_test = x_train.reshape(-1, 784), x_test.reshape(-1, 784)\n",
    "\n",
    "# 正規化\n",
    "x_train, x_test = x_train.astype(np.float32) / 255.0, x_test.astype(np.float32) / 255.0"
   ]
  },
  {
   "cell_type": "code",
   "execution_count": null,
   "metadata": {
    "scrolled": true
   },
   "outputs": [],
   "source": [
    "x_base = x_train[0].copy()\n",
    "x_base"
   ]
  },
  {
   "cell_type": "code",
   "execution_count": null,
   "metadata": {},
   "outputs": [],
   "source": [
    "plt.imshow(x_base.reshape(28,28))\n",
    "plt.title(\"x_base\")\n",
    "plt.show()"
   ]
  },
  {
   "cell_type": "code",
   "execution_count": null,
   "metadata": {},
   "outputs": [],
   "source": [
    "network = TwoLayerNet(input_size=784, hidden_size=50, output_size=10)\n",
    "\n",
    "# パラメータのロード\n",
    "network.load_params(\"params_nn.pkl\")\n",
    "print(\"loaded Network Parameters!\")"
   ]
  },
  {
   "cell_type": "code",
   "execution_count": null,
   "metadata": {},
   "outputs": [],
   "source": [
    "pred = network.predict(x_base)\n",
    "pred"
   ]
  },
  {
   "cell_type": "code",
   "execution_count": null,
   "metadata": {},
   "outputs": [],
   "source": [
    "pred_label = np.argmax(pred)\n",
    "pred_label"
   ]
  },
  {
   "cell_type": "code",
   "execution_count": null,
   "metadata": {},
   "outputs": [],
   "source": [
    "pred_score = max(softmax(pred))\n",
    "pred_score"
   ]
  },
  {
   "cell_type": "code",
   "execution_count": null,
   "metadata": {
    "scrolled": true
   },
   "outputs": [],
   "source": [
    "x = x_base.copy().reshape(1, 784)\n",
    "grads = network.gradient(x, np.array([5]))\n",
    "grads"
   ]
  },
  {
   "cell_type": "code",
   "execution_count": null,
   "metadata": {
    "scrolled": true
   },
   "outputs": [],
   "source": [
    "np.set_printoptions(threshold=np.inf)\n",
    "print(grads['W1'])"
   ]
  },
  {
   "cell_type": "code",
   "execution_count": null,
   "metadata": {},
   "outputs": [],
   "source": [
    "print(grads['W1'].shape)"
   ]
  },
  {
   "cell_type": "code",
   "execution_count": null,
   "metadata": {},
   "outputs": [],
   "source": [
    "grads_w1_sum = np.sum(grads['W1'], axis=0)\n",
    "grads_w1_sum"
   ]
  },
  {
   "cell_type": "code",
   "execution_count": null,
   "metadata": {},
   "outputs": [],
   "source": [
    "false_list = [[], [], [], [], [], [], [], [], [], []]\n",
    "false_list"
   ]
  },
  {
   "cell_type": "code",
   "execution_count": null,
   "metadata": {},
   "outputs": [],
   "source": [
    "true_list = [[], [], [], [], [], [], [], [], [], []]\n",
    "true_list"
   ]
  },
  {
   "cell_type": "code",
   "execution_count": null,
   "metadata": {},
   "outputs": [],
   "source": [
    "for i, t in enumerate(x_test):\n",
    "    pre_l = np.argmax(network.predict(t))\n",
    "    true_l = t_test[i]\n",
    "    if pre_l == true_l:\n",
    "        true_list[true_l].append(i)\n",
    "    else:\n",
    "        false_list[true_l].append(i)"
   ]
  },
  {
   "cell_type": "code",
   "execution_count": null,
   "metadata": {},
   "outputs": [],
   "source": [
    "len(true_list[5])"
   ]
  },
  {
   "cell_type": "code",
   "execution_count": null,
   "metadata": {},
   "outputs": [],
   "source": [
    "len(false_list[5])"
   ]
  },
  {
   "cell_type": "code",
   "execution_count": null,
   "metadata": {},
   "outputs": [],
   "source": [
    "def num_grads(nums, label):\n",
    "    grads = []\n",
    "    \n",
    "    for i in nums:\n",
    "        li = np.zeros(784)\n",
    "        g = network.gradient(x_test[i].reshape(1, 784), np.array([label]))\n",
    "        li += np.sum(g['W1'], axis=1)\n",
    "        grads.append(li)\n",
    "        \n",
    "    grads = np.array(grads)\n",
    "        \n",
    "    return grads\n",
    "    "
   ]
  },
  {
   "cell_type": "code",
   "execution_count": null,
   "metadata": {},
   "outputs": [],
   "source": [
    "def check_miss(advs, label):\n",
    "    fig = plt.figure(figsize=(15, 15))\n",
    "    \n",
    "    miss = 0\n",
    "    \n",
    "    for i, x in enumerate(advs):\n",
    "        ax = fig.add_subplot(5, 5, i+1)\n",
    "        ax.imshow(x.reshape(28,28), 'gray')\n",
    "        pre = network.predict(x)\n",
    "        pre_label = str(np.argmax(pre))\n",
    "        pre_score = str(max(pre))\n",
    "        ax.set_title(pre_label + \":\" + pre_score)\n",
    "        \n",
    "        if not pre_label == label:\n",
    "            miss += 1\n",
    "\n",
    "    plt.show()\n",
    "    \n",
    "    return miss/len(nums)"
   ]
  },
  {
   "cell_type": "code",
   "execution_count": null,
   "metadata": {
    "scrolled": false
   },
   "outputs": [],
   "source": [
    "for i in range(10):\n",
    "    print(i)\n",
    "    true_nums = true_list[i][:10]\n",
    "#     false_nums = false_list[i][:10]\n",
    "\n",
    "    x_batch = np.array(list(map(lambda x: x_test[x], true_nums)))\n",
    "    \n",
    "    x_grads = num_grads(x_batch, i)\n",
    "    \n",
    "    advs = x_batch + grads\n",
    "    \n",
    "    miss = check_miss(advs, i)\n",
    "    \n",
    "    print(\"不正解率\")\n",
    "    print(miss)\n",
    "    \n",
    "    print(\"#############################\")\n",
    "    \n",
    "    "
   ]
  },
  {
   "cell_type": "code",
   "execution_count": null,
   "metadata": {},
   "outputs": [],
   "source": []
  },
  {
   "cell_type": "code",
   "execution_count": null,
   "metadata": {},
   "outputs": [],
   "source": []
  },
  {
   "cell_type": "code",
   "execution_count": null,
   "metadata": {},
   "outputs": [],
   "source": []
  },
  {
   "cell_type": "code",
   "execution_count": null,
   "metadata": {},
   "outputs": [],
   "source": []
  },
  {
   "cell_type": "code",
   "execution_count": null,
   "metadata": {},
   "outputs": [],
   "source": []
  },
  {
   "cell_type": "code",
   "execution_count": null,
   "metadata": {},
   "outputs": [],
   "source": []
  },
  {
   "cell_type": "code",
   "execution_count": null,
   "metadata": {},
   "outputs": [],
   "source": []
  },
  {
   "cell_type": "code",
   "execution_count": null,
   "metadata": {},
   "outputs": [],
   "source": []
  },
  {
   "cell_type": "code",
   "execution_count": null,
   "metadata": {},
   "outputs": [],
   "source": []
  }
 ],
 "metadata": {
  "kernelspec": {
   "display_name": "Python 3",
   "language": "python",
   "name": "python3"
  },
  "language_info": {
   "codemirror_mode": {
    "name": "ipython",
    "version": 3
   },
   "file_extension": ".py",
   "mimetype": "text/x-python",
   "name": "python",
   "nbconvert_exporter": "python",
   "pygments_lexer": "ipython3",
   "version": "3.7.3"
  }
 },
 "nbformat": 4,
 "nbformat_minor": 2
}
