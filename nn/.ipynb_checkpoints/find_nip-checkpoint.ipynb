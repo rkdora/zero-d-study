{
 "cells": [
  {
   "cell_type": "code",
   "execution_count": null,
   "metadata": {},
   "outputs": [
    {
     "name": "stderr",
     "output_type": "stream",
     "text": [
      "Using TensorFlow backend.\n"
     ]
    }
   ],
   "source": [
    "import os\n",
    "import numpy as np\n",
    "from PIL import Image\n",
    "import matplotlib.pyplot as plt\n",
    "from two_layer_net import TwoLayerNet\n",
    "from keras.datasets import mnist\n",
    "from common.functions import softmax"
   ]
  },
  {
   "cell_type": "code",
   "execution_count": null,
   "metadata": {},
   "outputs": [],
   "source": [
    "# データの読み込み\n",
    "(x_train, t_train), (x_test, t_test) = mnist.load_data()\n",
    "\n",
    "# 1次元へ整形\n",
    "x_train, x_test = x_train.reshape(-1, 784), x_test.reshape(-1, 784)\n",
    "\n",
    "# 正規化\n",
    "x_train, x_test = x_train.astype(np.float32) / 255.0, x_test.astype(np.float32) / 255.0"
   ]
  },
  {
   "cell_type": "code",
   "execution_count": null,
   "metadata": {
    "scrolled": true
   },
   "outputs": [],
   "source": [
    "x_base = x_train[0].copy()\n",
    "x_base"
   ]
  },
  {
   "cell_type": "code",
   "execution_count": null,
   "metadata": {},
   "outputs": [],
   "source": [
    "plt.imshow(x_base.reshape(28,28))\n",
    "plt.title(\"x_base\")\n",
    "plt.show()"
   ]
  },
  {
   "cell_type": "code",
   "execution_count": null,
   "metadata": {},
   "outputs": [],
   "source": [
    "network = TwoLayerNet(input_size=784, hidden_size=50, output_size=10)\n",
    "\n",
    "# パラメータのロード\n",
    "network.load_params(\"params_nn.pkl\")\n",
    "print(\"loaded Network Parameters!\")"
   ]
  },
  {
   "cell_type": "code",
   "execution_count": null,
   "metadata": {},
   "outputs": [],
   "source": [
    "pred = network.predict(x_base)\n",
    "pred"
   ]
  },
  {
   "cell_type": "code",
   "execution_count": null,
   "metadata": {},
   "outputs": [],
   "source": [
    "pred_label = np.argmax(pred)\n",
    "pred_label"
   ]
  },
  {
   "cell_type": "code",
   "execution_count": null,
   "metadata": {},
   "outputs": [],
   "source": [
    "pred_score = max(softmax(pred))\n",
    "pred_score"
   ]
  },
  {
   "cell_type": "code",
   "execution_count": null,
   "metadata": {
    "scrolled": true
   },
   "outputs": [],
   "source": [
    "x = x_base.copy().reshape(1, 784)\n",
    "grads = network.gradient(x, np.array([5]))\n",
    "grads"
   ]
  },
  {
   "cell_type": "code",
   "execution_count": null,
   "metadata": {
    "scrolled": true
   },
   "outputs": [],
   "source": [
    "np.set_printoptions(threshold=np.inf)\n",
    "print(grads['W1'])"
   ]
  },
  {
   "cell_type": "code",
   "execution_count": null,
   "metadata": {},
   "outputs": [],
   "source": [
    "print(grads['W1'].shape)"
   ]
  },
  {
   "cell_type": "code",
   "execution_count": null,
   "metadata": {},
   "outputs": [],
   "source": [
    "grads_w1_sum = np.sum(grads['W1'], axis=0)\n",
    "grads_w1_sum"
   ]
  },
  {
   "cell_type": "code",
   "execution_count": null,
   "metadata": {},
   "outputs": [],
   "source": [
    "false_list = [[], [], [], [], [], [], [], [], [], []]\n",
    "false_list"
   ]
  },
  {
   "cell_type": "code",
   "execution_count": null,
   "metadata": {},
   "outputs": [],
   "source": [
    "true_list = [[], [], [], [], [], [], [], [], [], []]\n",
    "true_list"
   ]
  },
  {
   "cell_type": "code",
   "execution_count": null,
   "metadata": {},
   "outputs": [],
   "source": [
    "for i, t in enumerate(x_test):\n",
    "    pre_l = np.argmax(network.predict(t))\n",
    "    true_l = t_test[i]\n",
    "    if pre_l == true_l:\n",
    "        true_list[true_l].append(i)\n",
    "    else:\n",
    "        false_list[true_l].append(i)"
   ]
  },
  {
   "cell_type": "code",
   "execution_count": null,
   "metadata": {},
   "outputs": [],
   "source": [
    "len(true_list[5])"
   ]
  },
  {
   "cell_type": "code",
   "execution_count": null,
   "metadata": {},
   "outputs": [],
   "source": [
    "len(false_list[5])"
   ]
  },
  {
   "cell_type": "code",
   "execution_count": null,
   "metadata": {},
   "outputs": [],
   "source": [
    "def all_g(nums, label):\n",
    "    li = np.zeros(50)\n",
    "    for i in nums:\n",
    "        g = network.gradient(x_test[i].reshape(1, 784), np.array([label]))\n",
    "        li += np.sum(g['W1'], axis=0)\n",
    "        \n",
    "    return li\n",
    "    "
   ]
  },
  {
   "cell_type": "code",
   "execution_count": null,
   "metadata": {},
   "outputs": [],
   "source": [
    "def compare_g(t_nums, f_nums, label):\n",
    "    t = all_g(t_nums, label)\n",
    "    f = all_g(f_nums, label)\n",
    "    \n",
    "    w = 0.4\n",
    "    plt.figure(figsize=(30, 10))\n",
    "    plt.bar(np.arange(50), t, color='b', label='True', width=w, align=\"center\")\n",
    "    plt.bar(np.arange(50)+w, f, color='g', label='False', width=w, align=\"center\")\n",
    "    plt.legend(loc=2)\n",
    "    plt.show()\n",
    "    \n",
    "    print(\"True TOP10\")\n",
    "    \n",
    "    for i in range(10):\n",
    "        print(np.argsort(abs(t))[::-1][i], np.sort(abs(t))[::-1][i])\n",
    "        \n",
    "    print(\"===============\")\n",
    "    \n",
    "    print(\"False TOP10\")\n",
    "    \n",
    "    for i in range(10):\n",
    "        print(np.argsort(abs(f))[::-1][i], np.sort(abs(f))[::-1][i])\n",
    "        \n",
    "        \n",
    "    \n",
    "    return t - f"
   ]
  },
  {
   "cell_type": "code",
   "execution_count": null,
   "metadata": {},
   "outputs": [],
   "source": [
    "def all_c(nums, label):\n",
    "    li = np.zeros(50)\n",
    "    for i in nums:\n",
    "        g = network.gradient(x_test[i].reshape(1, 784), np.array([label]))\n",
    "        li += (np.sum(g['W1'], axis=0) != 0)\n",
    "        \n",
    "    return li\n",
    "    "
   ]
  },
  {
   "cell_type": "code",
   "execution_count": null,
   "metadata": {},
   "outputs": [],
   "source": [
    "def compare_c(t_nums, f_nums, label):\n",
    "    t = all_c(t_nums, label)\n",
    "    f = all_c(f_nums, label)\n",
    "    \n",
    "    w = 0.4\n",
    "    plt.figure(figsize=(30, 10))\n",
    "    plt.bar(np.arange(50), t, color='b', label='True', width=w, align=\"center\")\n",
    "    plt.bar(np.arange(50)+w, f, color='g', label='False', width=w, align=\"center\")\n",
    "    plt.legend(loc=2)\n",
    "    plt.show()\n",
    "    \n",
    "    print(\"True TOP10\")\n",
    "    \n",
    "    for i in range(10):\n",
    "        print(np.argsort(t)[::-1][i], np.sort(t)[::-1][i])\n",
    "        \n",
    "                \n",
    "    print(\"===============\")\n",
    "    \n",
    "    print(\"False TOP10\")\n",
    "    \n",
    "    for i in range(10):\n",
    "        print(np.argsort(f)[::-1][i], np.sort(f)[::-1][i])\n",
    "    \n",
    "    diff_tf = t- f\n",
    "    \n",
    "    plt.cla()\n",
    "    plt.bar(np.arange(50), (diff_tf))\n",
    "    plt.show()\n",
    "    \n",
    "    print(\"True - False TOP10\")\n",
    "    \n",
    "    for i in range(10):\n",
    "        print(np.argsort(abs(diff_tf))[::-1][i], np.sort(abs(diff_tf)[::-1][i]))\n",
    "    \n",
    "    return t - f"
   ]
  },
  {
   "cell_type": "code",
   "execution_count": null,
   "metadata": {
    "scrolled": true
   },
   "outputs": [],
   "source": [
    "for i in range(10):\n",
    "    print(i)\n",
    "    true_nums = true_list[i][:10]\n",
    "#     print(len(true_nums))\n",
    "    false_nums = false_list[i][:10]\n",
    "#     print(len(false_nums))\n",
    "    \n",
    "    compare_g(true_nums, false_nums, i)\n",
    "    compare_c(true_nums, false_nums, i)\n",
    "    \n",
    "    print(\"#############################\")"
   ]
  },
  {
   "cell_type": "code",
   "execution_count": null,
   "metadata": {},
   "outputs": [],
   "source": [
    "def all_g_x(nums, label):\n",
    "    li = np.zeros(784)\n",
    "    for i in nums:\n",
    "        g = network.gradient(x_test[i].reshape(1, 784), np.array([label]))\n",
    "        li += np.sum(g['W1'], axis=1)\n",
    "        \n",
    "    return li\n",
    "    "
   ]
  },
  {
   "cell_type": "code",
   "execution_count": null,
   "metadata": {},
   "outputs": [],
   "source": [
    "def all_c_x(nums, label):\n",
    "    li = np.zeros(784)\n",
    "    for i in nums:\n",
    "        g = network.gradient(x_test[i].reshape(1, 784), np.array([label]))\n",
    "        li += (np.sum(g['W1'], axis=1) != 0)\n",
    "        \n",
    "    return li\n",
    "    "
   ]
  },
  {
   "cell_type": "code",
   "execution_count": null,
   "metadata": {},
   "outputs": [],
   "source": [
    "def compare_g_x(t_nums, f_nums, label):\n",
    "    t = all_g_x(t_nums, label)\n",
    "    f = all_g_x(f_nums, label)\n",
    "    \n",
    "    \n",
    "    fig = plt.figure(figsize=(20, 20))\n",
    "    ax1 = fig.add_subplot(1, 3, 1)\n",
    "    ax2 = fig.add_subplot(1, 3, 2)\n",
    "    ax3 = fig.add_subplot(1, 3, 3)\n",
    "    ax1.set_title(\"True sum of grads\")\n",
    "    ax1.imshow(t.reshape(28,28))\n",
    "    ax2.set_title(\"False sum of grads\")\n",
    "    ax2.imshow(f.reshape(28,28))\n",
    "    ax3.set_title(\"True- False sum of grads\")\n",
    "    ax3.imshow((t-f).reshape(28,28))\n",
    "    \n",
    "    plt.show()\n",
    "    \n",
    "    t_img = np.zeros(784)\n",
    "    f_img = np.zeros(784)\n",
    "    \n",
    "    t_idx = []\n",
    "    f_idx = []\n",
    "    \n",
    "    for i in range(50):\n",
    "        t_idx.append(np.argsort(abs(t))[::-1][i])\n",
    "        f_idx.append(np.argsort(abs(f))[::-1][i])\n",
    "    \n",
    "    for t_i, f_i in zip(t_idx, f_idx):\n",
    "        t_img[t_i] = t[t_i]\n",
    "        f_img[f_i] = f[t_i]\n",
    "        \n",
    "    f_img = f_img.clip(min=-1, max=1)\n",
    "    \n",
    "    fig = plt.figure(figsize=(20, 20))\n",
    "    ax4 = fig.add_subplot(1, 3, 1)\n",
    "    ax5 = fig.add_subplot(1, 3, 2)\n",
    "    ax6 = fig.add_subplot(1, 3, 3)\n",
    "    ax4.set_title(\"True sum of grads\")\n",
    "    ax4.imshow(t_img.reshape(28,28))\n",
    "    ax5.set_title(\"False sum of grads\")\n",
    "    ax5.imshow(f_img.reshape(28,28))\n",
    "    ax6.set_title(\"True - False sum of grads\")\n",
    "    ax6.imshow((t_img - f_img).reshape(28,28))\n",
    "    \n",
    "    plt.show()\n",
    "    \n",
    "    return t_img, f_img\n",
    "    "
   ]
  },
  {
   "cell_type": "code",
   "execution_count": null,
   "metadata": {},
   "outputs": [],
   "source": [
    "def compare_c_x(t_nums, f_nums, label):\n",
    "    t = all_c_x(t_nums, label)\n",
    "    f = all_c_x(f_nums, label)\n",
    "    \n",
    "    fig = plt.figure(figsize=(20, 20))\n",
    "    ax1 = fig.add_subplot(1, 3, 1)\n",
    "    ax2 = fig.add_subplot(1, 3, 2)\n",
    "    ax3 = fig.add_subplot(1, 3, 3)\n",
    "    ax1.set_title(\"True counts of grads\")\n",
    "    ax1.imshow(t.reshape(28,28))\n",
    "    ax2.set_title(\"False counts of grads\")\n",
    "    ax2.imshow(f.reshape(28,28))\n",
    "    ax3.set_title(\"True- False counts of grads\")\n",
    "    ax3.imshow((t-f).reshape(28,28))\n",
    "    \n",
    "    plt.show()\n",
    "    \n",
    "    t_img = np.zeros(784)\n",
    "    f_img = np.zeros(784)\n",
    "    \n",
    "    t_idx = []\n",
    "    f_idx = []\n",
    "    \n",
    "    for i in range(50):\n",
    "        t_idx.append(np.argsort(t)[::-1][i])\n",
    "        f_idx.append(np.argsort(f)[::-1][i])\n",
    "    \n",
    "    for t_i, f_i in zip(t_idx, f_idx):\n",
    "        t_img[t_i] = t[t_i]\n",
    "        f_img[f_i] = f[t_i]\n",
    "        \n",
    "    \n",
    "    fig = plt.figure(figsize=(20, 20))\n",
    "    ax4 = fig.add_subplot(1, 3, 1)\n",
    "    ax5 = fig.add_subplot(1, 3, 2)\n",
    "    ax6 = fig.add_subplot(1, 3, 3)\n",
    "    ax4.set_title(\"True counts of grads\")\n",
    "    ax4.imshow(t_img.reshape(28,28))\n",
    "    ax5.set_title(\"False counts of grads\")\n",
    "    ax5.imshow(f_img.reshape(28,28))\n",
    "    ax6.set_title(\"True - False counts of grads\")\n",
    "    ax6.imshow((t_img - f_img).reshape(28,28))\n",
    "    \n",
    "    plt.show()\n",
    "    \n",
    "    return t_img, f_img\n",
    "        \n",
    "    \n",
    "    "
   ]
  },
  {
   "cell_type": "code",
   "execution_count": null,
   "metadata": {},
   "outputs": [],
   "source": [
    "def check_miss(idxs, adv, label):\n",
    "    nums = np.array(list(map(lambda x: x_test[x], idxs)))\n",
    "    x_batch = nums - adv\n",
    "    \n",
    "    x_batch = x_batch.clip(min=0)\n",
    "    \n",
    "    fig = plt.figure(figsize=(15, 15))\n",
    "    \n",
    "    miss = 0\n",
    "    \n",
    "    for i, x in enumerate(x_batch):\n",
    "        ax = fig.add_subplot(5, 5, i+1)\n",
    "        ax.imshow(x.reshape(28,28), 'gray')\n",
    "        pre = network.predict(x)\n",
    "        pre_label = np.argmax(pre)\n",
    "        pre_score = max(pre)\n",
    "        ax.set_title(pre_label)\n",
    "        \n",
    "        if not pre_label == label:\n",
    "            miss += 1\n",
    "\n",
    "    plt.show()\n",
    "    \n",
    "    return miss/len(nums)"
   ]
  },
  {
   "cell_type": "code",
   "execution_count": null,
   "metadata": {},
   "outputs": [],
   "source": [
    "def check_miss_g(idxs, adv, label):\n",
    "    nums = np.array(list(map(lambda x: x_test[x], idxs)))\n",
    "    x_batch = nums + adv\n",
    "    \n",
    "    fig = plt.figure(figsize=(15, 15))\n",
    "    \n",
    "    miss = 0\n",
    "    \n",
    "    for i, x in enumerate(x_batch):\n",
    "        ax = fig.add_subplot(5, 5, i+1)\n",
    "        ax.imshow(x.reshape(28,28), 'gray')\n",
    "        pre = network.predict(x)\n",
    "        pre_label = np.argmax(pre)\n",
    "        pre_score = max(pre)\n",
    "        ax.set_title(pre_label)\n",
    "        \n",
    "        if not pre_label == label:\n",
    "            miss += 1\n",
    "\n",
    "    plt.show()\n",
    "    \n",
    "    return miss/len(nums)"
   ]
  },
  {
   "cell_type": "code",
   "execution_count": null,
   "metadata": {
    "scrolled": false
   },
   "outputs": [],
   "source": [
    "for i in range(10):\n",
    "    print(i)\n",
    "    true_nums = true_list[i][:10]\n",
    "    false_nums = false_list[i][:10]\n",
    "    \n",
    "    print(\"入力値への勾配の合計\")\n",
    "    \n",
    "    t_img_g, f_img_g = compare_g_x(true_nums, false_nums, i)\n",
    "    \n",
    "    pre_t_g = network.predict(t_img_g)\n",
    "    print(np.argmax(pre_t_g))\n",
    "    print(max(softmax(pre_t_g)))\n",
    "    \n",
    "    pre_f_g = network.predict(f_img_g)\n",
    "    print(np.argmax(pre_f_g))\n",
    "    print(max(softmax(pre_f_g)))\n",
    "    \n",
    "    pre_tf_g = network.predict(t_img_g - f_img_g)\n",
    "    print(np.argmax(pre_tf_g))\n",
    "    print(max(softmax(pre_tf_g)))\n",
    "    \n",
    "    adv1 = x_test[true_nums[0]]+f_img_g\n",
    "    \n",
    "    print(adv1 == x_test[true_nums[0]])\n",
    "    exit()\n",
    "    \n",
    "    adv1 = adv1.clip(min=0, max=1)\n",
    "    \n",
    "    fig1 = plt.figure(figsize=(20, 20))\n",
    "\n",
    "    ax1 = fig1.add_subplot(1, 2, 1)\n",
    "    ax2 = fig1.add_subplot(1, 2, 2)\n",
    "    ax1.set_title(\"test x\")\n",
    "    ax1.imshow(x_test[true_nums[0]].reshape(28,28))\n",
    "    ax2.set_title(\"test + false_g\")\n",
    "    ax2.imshow(adv1.reshape(28,28))\n",
    "    plt.show()\n",
    "    \n",
    "    print(\"test x\")\n",
    "    print(np.argmax(softmax(network.predict(x_test[true_nums[0]]))))\n",
    "    print(max(softmax(network.predict(x_test[true_nums[0]]))))\n",
    "    \n",
    "    print(\"test + false_g\")\n",
    "    print(np.argmax(softmax(network.predict(adv1))))\n",
    "    print(max(softmax(network.predict(adv1))))\n",
    "    \n",
    "    print(check_miss_g(true_nums, adv1, i))\n",
    "    \n",
    "    print(\"--------------------------\")\n",
    "    \n",
    "    print(\"関わった入力値への回数\")\n",
    "    \n",
    "    t_img_c, f_img_c = compare_c_x(true_nums, false_nums, i)\n",
    "    \n",
    "    f_img_c = (f_img_c != 0)\n",
    "#     print(f_img_c)\n",
    "#     print(x_test[true_nums[0]]-f_img_c)\n",
    "    \n",
    "    pre_t_c = network.predict(t_img_c)\n",
    "    print(np.argmax(pre_t_c))\n",
    "    print(max(softmax(pre_t_c)))\n",
    "    \n",
    "    pre_f_c = network.predict(f_img_c)\n",
    "    print(np.argmax(pre_f_c))\n",
    "    print(max(softmax(pre_f_c)))\n",
    "    \n",
    "    pre_tf_c = network.predict(t_img_c - f_img_c)\n",
    "    print(np.argmax(pre_tf_c))\n",
    "    print(max(softmax(pre_tf_c)))\n",
    "    \n",
    "    adv = x_test[true_nums[0]]-f_img_c\n",
    "    adv = adv.clip(min=0)\n",
    "    \n",
    "    fig2 = plt.figure(figsize=(20, 20))\n",
    "\n",
    "    ax1 = fig2.add_subplot(1, 2, 1)\n",
    "    ax2 = fig2.add_subplot(1, 2, 2)\n",
    "    ax1.set_title(\"test x\")\n",
    "    ax1.imshow(x_test[true_nums[0]].reshape(28,28), 'gray')\n",
    "    ax2.set_title(\"test - false_c\")\n",
    "    ax2.imshow(adv.reshape(28,28), 'gray')\n",
    "    plt.show()\n",
    "    \n",
    "    print(\"test x\")\n",
    "    print(np.argmax(softmax(network.predict(x_test[true_nums[0]]))))\n",
    "    print(max(softmax(network.predict(x_test[true_nums[0]]))))\n",
    "    \n",
    "    print(\"test - false_c\")\n",
    "    print(np.argmax(softmax(network.predict(adv))))\n",
    "    print(max(softmax(network.predict(adv))))\n",
    "    \n",
    "    print(\"////////////\")\n",
    "    print(\"other nums\")\n",
    "    \n",
    "    print(check_miss(true_nums, f_img_c, i))\n",
    "    \n",
    "    print(\"#############################\")\n",
    "    \n",
    "    "
   ]
  },
  {
   "cell_type": "code",
   "execution_count": null,
   "metadata": {},
   "outputs": [],
   "source": []
  },
  {
   "cell_type": "code",
   "execution_count": null,
   "metadata": {},
   "outputs": [],
   "source": []
  },
  {
   "cell_type": "code",
   "execution_count": null,
   "metadata": {},
   "outputs": [],
   "source": []
  },
  {
   "cell_type": "code",
   "execution_count": null,
   "metadata": {},
   "outputs": [],
   "source": []
  },
  {
   "cell_type": "code",
   "execution_count": null,
   "metadata": {},
   "outputs": [],
   "source": []
  },
  {
   "cell_type": "code",
   "execution_count": null,
   "metadata": {},
   "outputs": [],
   "source": []
  },
  {
   "cell_type": "code",
   "execution_count": null,
   "metadata": {},
   "outputs": [],
   "source": []
  },
  {
   "cell_type": "code",
   "execution_count": null,
   "metadata": {},
   "outputs": [],
   "source": []
  },
  {
   "cell_type": "code",
   "execution_count": null,
   "metadata": {},
   "outputs": [],
   "source": []
  }
 ],
 "metadata": {
  "kernelspec": {
   "display_name": "Python 3",
   "language": "python",
   "name": "python3"
  },
  "language_info": {
   "codemirror_mode": {
    "name": "ipython",
    "version": 3
   },
   "file_extension": ".py",
   "mimetype": "text/x-python",
   "name": "python",
   "nbconvert_exporter": "python",
   "pygments_lexer": "ipython3",
   "version": "3.7.3"
  }
 },
 "nbformat": 4,
 "nbformat_minor": 2
}
